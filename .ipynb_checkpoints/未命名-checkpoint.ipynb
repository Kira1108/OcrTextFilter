{
 "cells": [
  {
   "cell_type": "code",
   "execution_count": 13,
   "metadata": {},
   "outputs": [],
   "source": [
    "class DFAFilter():\n",
    "\n",
    "    def __init__(self):\n",
    "        self.keyword_chains = {}\n",
    "        self.delimit = '\\x00'\n",
    "\n",
    "    def add(self, keyword):\n",
    "        if not isinstance(keyword, str):\n",
    "            keyword = keyword.decode('utf-8')\n",
    "        keyword = keyword.lower()\n",
    "        chars = keyword.strip()\n",
    "        if not chars:\n",
    "            return\n",
    "        level = self.keyword_chains\n",
    "        for i in range(len(chars)):\n",
    "            if chars[i] in level:\n",
    "                level = level[chars[i]]\n",
    "            else:\n",
    "                if not isinstance(level, dict):\n",
    "                    break\n",
    "                for j in range(i, len(chars)):\n",
    "                    level[chars[j]] = {}\n",
    "                    last_level, last_char = level, chars[j]\n",
    "                    level = level[chars[j]]\n",
    "                last_level[last_char] = {self.delimit: 0}\n",
    "                break\n",
    "        if i == len(chars) - 1:\n",
    "            level[self.delimit] = 0\n",
    "\n",
    "    def parse(self, path):\n",
    "        with open(path, encoding='UTF-8') as f:\n",
    "            for keyword in f:\n",
    "                self.add(keyword.strip())\n",
    "\n",
    "    def filter(self, message, repl=\"*\"):\n",
    "        if not isinstance(message, str):\n",
    "            message = message.decode('utf-8')\n",
    "        message = message.lower()\n",
    "        ret = []\n",
    "        start = 0\n",
    "        while start < len(message):\n",
    "            level = self.keyword_chains\n",
    "            step_ins = 0\n",
    "            for char in message[start:]:\n",
    "                if char in level:\n",
    "                    step_ins += 1\n",
    "                    if self.delimit not in level[char]:\n",
    "                        level = level[char]\n",
    "                    else:\n",
    "                        ret.append(repl * step_ins)\n",
    "                        start += step_ins - 1\n",
    "                        break\n",
    "                else:\n",
    "                    ret.append(message[start])\n",
    "                    break\n",
    "            else:\n",
    "                ret.append(message[start])\n",
    "            start += 1\n",
    "\n",
    "        return ''.join(ret)\n",
    "    \n",
    "    \n",
    "    def is_contain_sensi_key_word(self, message):\n",
    "        repl = '_-__-'\n",
    "        dest_string = self.filter(message=message, repl=repl)\n",
    "        if repl in dest_string:\n",
    "            return True\n",
    "        return False\n"
   ]
  },
  {
   "cell_type": "code",
   "execution_count": 14,
   "metadata": {},
   "outputs": [],
   "source": [
    "def test_first_character():\n",
    "    gfw = DFAFilter()\n",
    "    gfw.add(\"1989年\")\n",
    "    assert gfw.filter(\"1989\", \"*\") == \"1989\""
   ]
  },
  {
   "cell_type": "code",
   "execution_count": 18,
   "metadata": {},
   "outputs": [
    {
     "name": "stdout",
     "output_type": "stream",
     "text": [
      "*** **操操\n",
      "***** **操操\n",
      "***** **操操\n",
      "传世私服 **操操\n",
      "Cost is 0.000941\n",
      "False\n"
     ]
    }
   ],
   "source": [
    "gfw = DFAFilter()\n",
    "gfw.parse(\"data_sensative/words.txt\")\n",
    "import time\n",
    "\n",
    "t = time.process_time()\n",
    "print(gfw.filter(\"法轮功 我操操操\", \"*\"))\n",
    "print(gfw.filter(\"针孔摄像机 我操操操\", \"*\"))\n",
    "print(gfw.filter(\"售假人民币 我操操操\", \"*\"))\n",
    "print(gfw.filter(\"传世私服 我操操操\", \"*\"))\n",
    "print('Cost is %6.6f' % (time.process_time() - t))\n",
    "print(gfw.is_contain_sensi_key_word('打胎'))\n",
    "test_first_character()"
   ]
  },
  {
   "cell_type": "code",
   "execution_count": null,
   "metadata": {},
   "outputs": [],
   "source": []
  }
 ],
 "metadata": {
  "kernelspec": {
   "display_name": "Python 3",
   "language": "python",
   "name": "python3"
  },
  "language_info": {
   "codemirror_mode": {
    "name": "ipython",
    "version": 3
   },
   "file_extension": ".py",
   "mimetype": "text/x-python",
   "name": "python",
   "nbconvert_exporter": "python",
   "pygments_lexer": "ipython3",
   "version": "3.8.3"
  }
 },
 "nbformat": 4,
 "nbformat_minor": 4
}
